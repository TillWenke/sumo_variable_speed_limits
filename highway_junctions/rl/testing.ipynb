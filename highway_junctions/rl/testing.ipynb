{
 "cells": [
  {
   "cell_type": "code",
   "execution_count": 4,
   "metadata": {},
   "outputs": [
    {
     "ename": "TraCIException",
     "evalue": "Connection 'default' is already active.",
     "output_type": "error",
     "traceback": [
      "\u001b[0;31m---------------------------------------------------------------------------\u001b[0m",
      "\u001b[0;31mTraCIException\u001b[0m                            Traceback (most recent call last)",
      "\u001b[1;32m/home/till/projects/uni/intelligent transport/its-project/highway_junctions/rl/testing.ipynb Cell 1\u001b[0m in \u001b[0;36m<cell line: 1>\u001b[0;34m()\u001b[0m\n\u001b[0;32m----> <a href='vscode-notebook-cell:/home/till/projects/uni/intelligent%20transport/its-project/highway_junctions/rl/testing.ipynb#W2sZmlsZQ%3D%3D?line=0'>1</a>\u001b[0m \u001b[39mimport\u001b[39;00m \u001b[39mrl_control\u001b[39;00m\n\u001b[1;32m      <a href='vscode-notebook-cell:/home/till/projects/uni/intelligent%20transport/its-project/highway_junctions/rl/testing.ipynb#W2sZmlsZQ%3D%3D?line=1'>2</a>\u001b[0m \u001b[39mimport\u001b[39;00m \u001b[39mrl_utils\u001b[39;00m\n",
      "File \u001b[0;32m~/projects/uni/intelligent transport/its-project/highway_junctions/rl/rl_control.py:243\u001b[0m, in \u001b[0;36m<module>\u001b[0;34m\u001b[0m\n\u001b[1;32m    239\u001b[0m detector_length \u001b[39m=\u001b[39m \u001b[39m50\u001b[39m \u001b[39m#meters\u001b[39;00m\n\u001b[1;32m    241\u001b[0m \u001b[39m# ----------------------------------------------- RL ENVIROMENT START -----------------------------------------------\u001b[39;00m\n\u001b[0;32m--> 243\u001b[0m env \u001b[39m=\u001b[39m SUMOEnv()\n\u001b[1;32m    244\u001b[0m \u001b[39mprint\u001b[39m(env\u001b[39m.\u001b[39mobservation_space)\n\u001b[1;32m    246\u001b[0m \u001b[39mprint\u001b[39m(env\u001b[39m.\u001b[39mobservation_space\u001b[39m.\u001b[39msample(), env\u001b[39m.\u001b[39maction_space\u001b[39m.\u001b[39msample())\n",
      "File \u001b[0;32m~/projects/uni/intelligent transport/its-project/highway_junctions/rl/rl_control.py:34\u001b[0m, in \u001b[0;36mSUMOEnv.__init__\u001b[0;34m(self)\u001b[0m\n\u001b[1;32m     30\u001b[0m \u001b[39mself\u001b[39m\u001b[39m.\u001b[39msim_length \u001b[39m=\u001b[39m \u001b[39m120\u001b[39m \u001b[39m# 30 x 120 = 3600 steps\u001b[39;00m\n\u001b[1;32m     32\u001b[0m \u001b[39m# SUMO specific\u001b[39;00m\n\u001b[1;32m     33\u001b[0m \u001b[39m#run sumo simulation\u001b[39;00m\n\u001b[0;32m---> 34\u001b[0m traci\u001b[39m.\u001b[39;49mstart(sumoCmd)\n",
      "File \u001b[0;32m~/.local/lib/python3.10/site-packages/traci/main.py:144\u001b[0m, in \u001b[0;36mstart\u001b[0;34m(cmd, port, numRetries, label, verbose, traceFile, traceGetters, stdout, doSwitch)\u001b[0m\n\u001b[1;32m    129\u001b[0m \u001b[39m\"\"\"\u001b[39;00m\n\u001b[1;32m    130\u001b[0m \u001b[39mStart a sumo server using cmd, establish a connection to it and\u001b[39;00m\n\u001b[1;32m    131\u001b[0m \u001b[39mstore it under the given label. This method is not thread-safe.\u001b[39;00m\n\u001b[0;32m   (...)\u001b[0m\n\u001b[1;32m    141\u001b[0m \u001b[39m- stdout (iostream): where to pipe sumo process stdout\u001b[39;00m\n\u001b[1;32m    142\u001b[0m \u001b[39m\"\"\"\u001b[39;00m\n\u001b[1;32m    143\u001b[0m \u001b[39mif\u001b[39;00m label \u001b[39min\u001b[39;00m _connections:\n\u001b[0;32m--> 144\u001b[0m     \u001b[39mraise\u001b[39;00m TraCIException(\u001b[39m\"\u001b[39m\u001b[39mConnection \u001b[39m\u001b[39m'\u001b[39m\u001b[39m%s\u001b[39;00m\u001b[39m'\u001b[39m\u001b[39m is already active.\u001b[39m\u001b[39m\"\u001b[39m \u001b[39m%\u001b[39m label)\n\u001b[1;32m    145\u001b[0m \u001b[39mwhile\u001b[39;00m numRetries \u001b[39m>\u001b[39m\u001b[39m=\u001b[39m \u001b[39m0\u001b[39m \u001b[39mand\u001b[39;00m label \u001b[39mnot\u001b[39;00m \u001b[39min\u001b[39;00m _connections:\n\u001b[1;32m    146\u001b[0m     sumoPort \u001b[39m=\u001b[39m getFreeSocketPort() \u001b[39mif\u001b[39;00m port \u001b[39mis\u001b[39;00m \u001b[39mNone\u001b[39;00m \u001b[39melse\u001b[39;00m port\n",
      "\u001b[0;31mTraCIException\u001b[0m: Connection 'default' is already active."
     ]
    }
   ],
   "source": [
    "import rl_control\n",
    "import rl_utils"
   ]
  },
  {
   "cell_type": "code",
   "execution_count": null,
   "metadata": {},
   "outputs": [],
   "source": [
    "episodes = 3\n",
    "for episode in range(1, episodes+1):\n",
    "    state = env.reset()\n",
    "    done = False\n",
    "    score = 0 \n",
    "    \n",
    "    while not done:\n",
    "        #env.render()\n",
    "        action = env.action_space.sample()\n",
    "        n_state, reward, done, info = env.step(action)\n",
    "        score+=reward\n",
    "    print('Episode:{} Score:{}'.format(episode, score))"
   ]
  }
 ],
 "metadata": {
  "kernelspec": {
   "display_name": "Python 3.10.6 64-bit",
   "language": "python",
   "name": "python3"
  },
  "language_info": {
   "codemirror_mode": {
    "name": "ipython",
    "version": 3
   },
   "file_extension": ".py",
   "mimetype": "text/x-python",
   "name": "python",
   "nbconvert_exporter": "python",
   "pygments_lexer": "ipython3",
   "version": "3.10.6"
  },
  "orig_nbformat": 4,
  "vscode": {
   "interpreter": {
    "hash": "916dbcbb3f70747c44a77c7bcd40155683ae19c65e1c03b4aa3499c5328201f1"
   }
  }
 },
 "nbformat": 4,
 "nbformat_minor": 2
}
